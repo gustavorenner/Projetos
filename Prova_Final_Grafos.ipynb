{
  "cells": [
    {
      "cell_type": "markdown",
      "metadata": {
        "id": "view-in-github",
        "colab_type": "text"
      },
      "source": [
        "<a href=\"https://colab.research.google.com/github/gustavorenner/Projetos/blob/main/Prova_Final_Grafos.ipynb\" target=\"_parent\"><img src=\"https://colab.research.google.com/assets/colab-badge.svg\" alt=\"Open In Colab\"/></a>"
      ]
    },
    {
      "cell_type": "markdown",
      "metadata": {
        "id": "30oJTLMKwiXe"
      },
      "source": [
        "# Prova\n",
        "\n",
        "\n",
        "##Instituto Federal de Educação, Ciência e Tecnologia do Norte de Minas Gerais - Campus Januária\n",
        "\n",
        "Aluno: Gustavo Renner Antunes Cangussu</br>\n",
        "\n",
        "Curso: Bacharelado em Sistemas de Informação </br>\n",
        "\n",
        "Disciplina: Teoria dos Grafos </br>\n",
        "\n",
        "Professor: Dr. Petrônio Cândido </br>\n",
        "\n"
      ]
    },
    {
      "cell_type": "markdown",
      "metadata": {
        "id": "RpLXyKOUxvX4"
      },
      "source": [
        "\n",
        "\n",
        "<p> Algumas cidades da região norte do estado de Minas Gerais possuem cooperativas de táxis intermunicipais e decidiram se unir para ampliar o seu leque de atividades e se tranformar em uma empresa de transportes e logística. Seu rol de operações incluirá transporte de pequenas encomendas e passageiros. </p>\n",
        "\n",
        "\n",
        "<p>Cada trecho (estrada que liga cidades) só pode ter um único veículo da empresa em cada sentido (indo ou voltando) em cada janela de tempo.</p>\n",
        "\n",
        "<p>A empresa também considera construir sedes em cidades-chave que sirvam de pontos de apoio para os motoristas e passageiros e armazém logístico das encomendas.</p>\n",
        "\n",
        "```\n",
        "Januária: 1\n",
        "São João das Missões: 2\n",
        "Miravânia: 3\n",
        "Pedras de Maria da Cruz: 4\n",
        "Bonito de Minas: 5\n",
        "Japonvar: 6\n",
        "Montes Claros: 7\n",
        "Itacarambi: 8\n",
        "Manga: 9\n",
        "Montalvânia: 10\n",
        "São Francisco: 11\n",
        "Lontra: 12\n",
        "Mirabela: 13\n",
        "Bocaiúva: 14\n",
        "Brasília de Minas: 15\n",
        "Luislândia: 16\n",
        "Jaíba: 17\n",
        "Verdelândia: 18\n",
        "Varzelândia: 19\n",
        "Janaúba: 20\n",
        "Capitão Enéas: 21\n",
        "```"
      ]
    },
    {
      "cell_type": "markdown",
      "metadata": {
        "id": "TVU1t-j9xDpK"
      },
      "source": [
        "# PARÂMETROS\n",
        "\n",
        "A = 78 % 3 </br>\n",
        "B = 18 % 5 </br>\n",
        "\n",
        "\n",
        " A) Escolha todas as cidades da tebela em que (numero da cidade) % A = 0 ou (numero da cidade) % B = 0. Utilizando o Google Maps, monte a Matriz de Adjacências do grafo com as cidades escolhidas, em que os pesos das arestas representam a distância entre as cidades que possuem estradas entre si (mesmo que elas passem por outras cidades que não estão selecionadas)"
      ]
    },
    {
      "cell_type": "code",
      "source": [
        "# Parâmetros\n",
        "A = 78 % 3 if 3 != 0 else 1\n",
        "B = 18 % 5 if 5 != 0 else 1\n",
        "\n",
        "\n",
        "\n",
        "# Cidades\n",
        "cities = {\n",
        "    1: \"Januária\",\n",
        "    2: \"São João das Missões\",\n",
        "    3: \"Miravânia\",\n",
        "    4: \"Pedras de Maria da Cruz\",\n",
        "    5: \"Bonito de Minas\",\n",
        "    6: \"Japonvar\",\n",
        "    7: \"Montes Claros\",\n",
        "    8: \"Itacarambi\",\n",
        "    9: \"Manga\",\n",
        "    10: \"Montalvânia\",\n",
        "    11: \"São Francisco\",\n",
        "    12: \"Lontra\",\n",
        "    13: \"Mirabela\",\n",
        "    14: \"Bocaiúva\",\n",
        "    15: \"Brasília de Minas\",\n",
        "    16: \"Luislândia\",\n",
        "    17: \"Jaíba\",\n",
        "    18: \"Verdelândia\",\n",
        "    19: \"Varzelândia\",\n",
        "    20: \"Janaúba\",\n",
        "    21: \"Capitão Enéas\"\n",
        "}\n",
        "\n",
        "# Selecionando cidades\n",
        "selected_cities = []\n",
        "for city in cities.keys():\n",
        "    if A == 0 and B == 0:\n",
        "        selected_cities.append(city)\n",
        "    elif A == 0:\n",
        "        if city % B == 0:\n",
        "            selected_cities.append(city)\n",
        "    elif B == 0:\n",
        "        if city % A == 0:\n",
        "            selected_cities.append(city)\n",
        "    else:\n",
        "        if city % A == 0 or city % B == 0:\n",
        "            selected_cities.append(city)\n",
        "\n",
        "print(\"As cidades selecionadas são:\")\n",
        "for city in selected_cities:\n",
        "    print(f\"{city} - {cities[city]}\")\n"
      ],
      "metadata": {
        "id": "sU2ysGkdBBFt",
        "outputId": "c338e1a9-20b7-4d63-b3f0-4f13a07aef90",
        "colab": {
          "base_uri": "https://localhost:8080/"
        }
      },
      "execution_count": 1,
      "outputs": [
        {
          "output_type": "stream",
          "name": "stdout",
          "text": [
            "As cidades selecionadas são:\n",
            "3 - Miravânia\n",
            "6 - Japonvar\n",
            "9 - Manga\n",
            "12 - Lontra\n",
            "15 - Brasília de Minas\n",
            "18 - Verdelândia\n",
            "21 - Capitão Enéas\n"
          ]
        }
      ]
    },
    {
      "cell_type": "code",
      "source": [
        "grafo = [[-1 for j in range(len(selected_cities))] for i in range(len(selected_cities))]"
      ],
      "metadata": {
        "id": "SWRjmxbLZgkw"
      },
      "execution_count": 2,
      "outputs": []
    },
    {
      "cell_type": "code",
      "source": [
        "# Distâncias/Pesos\n",
        "\n",
        "#Devido a problemas encontrados ao conectar a API do google maps as distancias foram inseridas manualmente na matriz.\n",
        "\n",
        "# Miravania - Manga\n",
        "\n",
        "grafo[0][2] = 59.8\n",
        "grafo[2][0] = 59.8\n",
        "\n",
        "# Miravania - Lontra\n",
        "\n",
        "grafo[0][3] = 154\n",
        "grafo[3][0] = 154\n",
        "\n",
        "\n",
        "# Japonvar - Lontra\n",
        "\n",
        "grafo[1][3] = 12.1\n",
        "grafo[3][1] = 12.1\n",
        "\n",
        "# Japonvar - Brasilia de MG\n",
        "\n",
        "grafo[1][4] = 51.1\n",
        "grafo[4][1] = 51.1\n",
        "\n",
        "# Japonvar - verdelandia\n",
        "\n",
        "grafo[1][5] = 118\n",
        "grafo[5][1] = 118\n",
        "\n",
        "# Japonvar - C. Eneas\n",
        "\n",
        "grafo[1][6] = 95.7\n",
        "grafo[6][1] = 95.7\n",
        "\n",
        "# Manga - Lontra\n",
        "\n",
        "grafo[2][3] = 164\n",
        "grafo[3][2] = 164\n",
        "\n",
        "# Manga - Brasilia de MG\n",
        "\n",
        "grafo[2][4] = 227\n",
        "grafo[4][2] = 227\n",
        "\n",
        "# Manga -Verdelandia\n",
        "\n",
        "grafo[2][5] = 105\n",
        "grafo[5][2] = 105\n",
        "\n",
        "\n",
        "# Braslia de Minas - verdelandia\n",
        "\n",
        "grafo[3][5] = 169\n",
        "grafo[5][3] = 169\n",
        "\n",
        "# Braslia de Minas -  C. eneas\n",
        "\n",
        "grafo[4][6] = 166\n",
        "grafo[6][4] = 166\n",
        "\n",
        "# Verdelandia - C. eneas\n",
        "\n",
        "grafo[5][6] = 119\n",
        "grafo[6][5] = 119\n",
        "\n",
        "\n",
        "grafo"
      ],
      "metadata": {
        "id": "JDCyz01vY0Jd",
        "outputId": "c7302fa6-891a-4cc8-fc9c-423531d6fb31",
        "colab": {
          "base_uri": "https://localhost:8080/"
        }
      },
      "execution_count": null,
      "outputs": [
        {
          "output_type": "execute_result",
          "data": {
            "text/plain": [
              "[[-1, -1, 59.8, 154, -1, -1, -1],\n",
              " [-1, -1, -1, 12.1, 51.1, 118, 95.7],\n",
              " [59.8, -1, -1, 164, 227, 105, -1],\n",
              " [154, 12.1, 164, -1, -1, 169, -1],\n",
              " [-1, 51.1, 227, -1, -1, -1, 166],\n",
              " [-1, 118, 105, 169, -1, -1, 119],\n",
              " [-1, 95.7, -1, -1, 166, 119, -1]]"
            ]
          },
          "metadata": {},
          "execution_count": 3
        }
      ]
    },
    {
      "cell_type": "markdown",
      "source": [
        "\n",
        "## B) O Grafo é planar? Prove\n",
        "\n",
        "\n",
        "### O grafo possui um subgrafo k5?\n",
        "\n",
        "Não, podemos verificar que o grafo não possui subgrafo isomórfico ao grafo K5, já que esse grafo tem 5 vértices e, portanto, é impossível formar um subgrafo desse tipo com os 7 vértices presentes no grafo\n",
        "\n",
        "### O grafo possui um subgrafo k3,3?\n",
        "\n",
        " Não,não é possível encontrar um conjunto de 6 vértices que possa ser dividido em duas partições com 3 vértices em cada partição. Portanto, o grafo também não contém um subgrafo K3,3.\n",
        "\n",
        "O grafo não contém subgrafos K5 ou K3,3, e portanto é planar!\n"
      ],
      "metadata": {
        "id": "AbAgP_kGoeiS"
      }
    },
    {
      "cell_type": "markdown",
      "metadata": {
        "id": "gZIc1M8zd36x"
      },
      "source": [
        " ## C) Considerando que, na medida do possível, as sedes não devem ficar em cidades vizinhas, mas todas as cidades não-sede devem ser vizinhas de uma sede. Detalhe um método ou algoritmo para encontrar o menor número possível de sedes e em quais cidades elas estarão localizadas, e prove sua escolha embasando-se nas teorias estudadas na disciplina.\n",
        "\n",
        "\n",
        "O método utilizado para encontrar as sedes das cidades foi a cobertura de vértices, uma técnica utilizada em teoria dos grafos que consiste em encontrar o menor conjunto de vértices que cobrem todas as arestas do grafo. A ideia é escolher o menor conjunto de cidades que garantam que todas as outras cidades estejam a uma distância \"1\" de pelo menos uma das cidades escolhidas. Além disso, utilizei a regra de não permitir que cidades vizinhas sejam sedes e escolhemos aquela com maior número de vizinhos"
      ]
    },
    {
      "cell_type": "code",
      "source": [
        "import networkx as nx\n",
        "\n",
        "# Matriz de adjacências representando as distâncias entre as cidades\n",
        "distances = [[-1, 166, 59.8, 154, 217, 174, 293],\n",
        "             [166, -1, 176, 12.1, 51.1, 118, 95.7],\n",
        "             [59.8, 176, -1, 164, 227, 105, 224],\n",
        "             [154, 12.1, 164, -1, 63.3, 169, 107],\n",
        "             [217, 51.1, 227, 63.3, -1, -1, 166],\n",
        "             [174, 118, 105, 169, -1, -1, 119],\n",
        "             [293, 95.7, 224, 107, 166, 119, -1]]\n",
        "\n",
        "# Vertices representando as cidades\n",
        "vertices = {0: \"Miravânia\",\n",
        "            1: \"Japonvar\",\n",
        "            2: \"Manga\",\n",
        "            3: \"Lontra\",\n",
        "            4: \"Brasília de Minas\",\n",
        "            5: \"Verdelândia\",\n",
        "            6: \"Capitão Enéas\"}\n",
        "\n",
        "# Criando um grafo não direcionado com pesos nas arestas\n",
        "G = nx.Graph()\n",
        "for i in range(len(distances)):\n",
        "    for j in range(len(distances)):\n",
        "        if distances[i][j] != -1:\n",
        "            G.add_edge(vertices[i], vertices[j], weight=distances[i][j])\n",
        "\n",
        "# Criando um dicionário com a quantidade de vizinhos de cada cidade\n",
        "num_neighbors = {}\n",
        "for city in vertices.values():\n",
        "    num_neighbors[city] = len(list(G.neighbors(city)))\n",
        "\n",
        "# Executando o pareamento maximal\n",
        "matching = nx.algorithms.matching.maximal_matching(G)\n",
        "\n",
        "# Encontrando as cidades sede a partir do pareamento maximal e das restrições\n",
        "sede_cities = []\n",
        "for edge in matching:\n",
        "    if num_neighbors[edge[0]] == 1 and num_neighbors[edge[1]] == 1:\n",
        "        continue\n",
        "    elif num_neighbors[edge[0]] > num_neighbors[edge[1]]:\n",
        "        sede_cities.append(edge[0])\n",
        "    elif num_neighbors[edge[0]] < num_neighbors[edge[1]]:\n",
        "        sede_cities.append(edge[1])\n",
        "    else:\n",
        "        sede_cities.append(edge[0])\n",
        "\n",
        "# Imprimindo as cidades sede\n",
        "print(\"As cidades sede são:\")\n",
        "for city in sede_cities:\n",
        "    print(city)\n"
      ],
      "metadata": {
        "id": "i5AlCupL--2q",
        "outputId": "33df1efc-0267-45e9-8956-8239e1709a1b",
        "colab": {
          "base_uri": "https://localhost:8080/"
        }
      },
      "execution_count": null,
      "outputs": [
        {
          "output_type": "stream",
          "name": "stdout",
          "text": [
            "As cidades sede são:\n",
            "Capitão Enéas\n",
            "Miravânia\n",
            "Manga\n"
          ]
        }
      ]
    },
    {
      "cell_type": "markdown",
      "source": [
        "## D)Considerando que todo o transporte de enconmentas para cidades não-vizinhas deve passar por uma sede, proponha um algoritmo que encontro o subgrafo que otimize a distribuição das rotas e justifique"
      ],
      "metadata": {
        "id": "DraFtbNfAL86"
      }
    },
    {
      "cell_type": "markdown",
      "source": [
        "Para otimizar a distribuição das rotas de transporte, podemos utilizar o algoritmo do conjunto cobertura de arestas (edge cover), que tem como objetivo encontrar o menor subconjunto de arestas que cobrem todos os vértices do grafo.\n",
        "\n",
        "O algoritmo é dividido em duas etapas: (1) construir um grafo bipartido a partir do grafo original, e (2) encontrar o conjunto cobertura de arestas nesse grafo bipartido.\n",
        "\n"
      ],
      "metadata": {
        "id": "IpB3b6JCCbPf"
      }
    },
    {
      "cell_type": "code",
      "source": [
        "\n",
        "# Definindo a distância limite entre cidades\n",
        "dist_limite = 170\n",
        "\n",
        "# Criando o grafo bipartido\n",
        "G = nx.Graph()\n",
        "for i in range(len(distances)):\n",
        "    for j in range(len(distances)):\n",
        "        if distances[i][j] != -1 and distances[i][j] <= dist_limite:\n",
        "            G.add_edge(vertices[i], vertices[j])\n",
        "\n",
        "# Encontrando o conjunto cobertura de arestas\n",
        "edge_cover = nx.min_edge_cover(G)\n",
        "\n",
        "# Imprimindo as rotas de transporte\n",
        "for edge in edge_cover:\n",
        "    print(edge)\n"
      ],
      "metadata": {
        "id": "0tEjfhtjBZg6",
        "outputId": "ccf1587d-7ec0-4820-a50f-0a53d3d66303",
        "colab": {
          "base_uri": "https://localhost:8080/"
        }
      },
      "execution_count": null,
      "outputs": [
        {
          "output_type": "stream",
          "name": "stdout",
          "text": [
            "('Capitão Enéas', 'Japonvar')\n",
            "('Verdelândia', 'Manga')\n",
            "('Japonvar', 'Miravânia')\n",
            "('Brasília de Minas', 'Lontra')\n"
          ]
        }
      ]
    },
    {
      "cell_type": "markdown",
      "source": [
        "## E) Considerando que os motoristas partem das cidades não-sede para uma cidade sede e voltam, detalhe um método para organizar a tabela de horários para que não haja mais do que um motorista chegando ou saindo ao mesmo tempo e justifique seu método com base nas teorias estudadas na disciplina.\n"
      ],
      "metadata": {
        "id": "cLSjqoqCCOBZ"
      }
    },
    {
      "cell_type": "markdown",
      "source": [
        "Para organizar a tabela de horários de forma que não haja mais do que um motorista chegando ou saindo ao mesmo tempo, podemos utilizar o método de coloração de vértices. Criando um grafo onde cada vértice representa um horário de chegada ou saída em uma cidade e as arestas representam a impossibilidade de dois motoristas chegarem ou saírem ao mesmo tempo.\n"
      ],
      "metadata": {
        "id": "Ry60DqdpGTqm"
      }
    },
    {
      "cell_type": "code",
      "source": [
        "\n",
        "# Criando um grafo vazio\n",
        "G = nx.Graph()\n",
        "\n",
        "# Adicionando os vértices (horários de chegada/saída em cada cidade)\n",
        "horarios = [\"7h\", \"8h\", \"9h\", \"10h\", \"11h\", \"12h\", \"13h\", \"14h\", \"15h\", \"16h\", \"17h\", \"18h\"]\n",
        "for cidade in sede_cities:\n",
        "    for h in horarios:\n",
        "        G.add_node(f\"{cidade}-{h}\")\n",
        "\n",
        "# Adicionando as arestas (horários impossíveis de ocorrerem simultaneamente)\n",
        "for u in G.nodes:\n",
        "    for v in G.nodes:\n",
        "        if u == v:\n",
        "            continue\n",
        "        u_cidade, u_h = u.split(\"-\")\n",
        "        v_cidade, v_h = v.split(\"-\")\n",
        "        if u_cidade == v_cidade or u_h == v_h:\n",
        "            continue\n",
        "        G.add_edge(u, v)\n",
        "\n",
        "# Executando o algoritmo de coloração de vértices\n",
        "coloracao = nx.greedy_color(G)\n",
        "\n",
        "# Imprimindo a tabela de horários por motorista\n",
        "for cor in sorted(set(coloracao.values())):\n",
        "    print(f\"Motorista {cor+1}:\")\n",
        "    for horario, c in coloracao.items():\n",
        "        if c == cor:\n",
        "            print(horario)\n"
      ],
      "metadata": {
        "id": "fa9Hoh0WDDP0",
        "outputId": "45d90bff-8b83-4e61-e7d6-586d1b72a744",
        "colab": {
          "base_uri": "https://localhost:8080/"
        }
      },
      "execution_count": null,
      "outputs": [
        {
          "output_type": "stream",
          "name": "stdout",
          "text": [
            "Motorista 1:\n",
            "Capitão Enéas-7h\n",
            "Capitão Enéas-8h\n",
            "Capitão Enéas-9h\n",
            "Capitão Enéas-10h\n",
            "Capitão Enéas-11h\n",
            "Capitão Enéas-12h\n",
            "Capitão Enéas-13h\n",
            "Capitão Enéas-14h\n",
            "Capitão Enéas-15h\n",
            "Capitão Enéas-16h\n",
            "Capitão Enéas-17h\n",
            "Capitão Enéas-18h\n",
            "Motorista 2:\n",
            "Miravânia-7h\n",
            "Miravânia-8h\n",
            "Miravânia-9h\n",
            "Miravânia-10h\n",
            "Miravânia-11h\n",
            "Miravânia-12h\n",
            "Miravânia-13h\n",
            "Miravânia-14h\n",
            "Miravânia-15h\n",
            "Miravânia-16h\n",
            "Miravânia-17h\n",
            "Miravânia-18h\n",
            "Motorista 3:\n",
            "Manga-7h\n",
            "Manga-8h\n",
            "Manga-9h\n",
            "Manga-10h\n",
            "Manga-11h\n",
            "Manga-12h\n",
            "Manga-13h\n",
            "Manga-14h\n",
            "Manga-15h\n",
            "Manga-16h\n",
            "Manga-17h\n",
            "Manga-18h\n"
          ]
        }
      ]
    }
  ],
  "metadata": {
    "colab": {
      "provenance": [],
      "include_colab_link": true
    },
    "kernelspec": {
      "display_name": "Python 3",
      "name": "python3"
    }
  },
  "nbformat": 4,
  "nbformat_minor": 0
}